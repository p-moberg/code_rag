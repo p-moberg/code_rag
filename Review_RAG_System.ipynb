{
 "cells": [
  {
   "cell_type": "code",
   "execution_count": 4,
   "id": "c5c1ac5d-b555-4e29-86bf-b596167e8f20",
   "metadata": {},
   "outputs": [],
   "source": [
    "!pip install -Uqq chromadb\n",
    "!pip install -Uqq langchain\n",
    "!pip install -Uqq langchain-community"
   ]
  },
  {
   "cell_type": "code",
   "execution_count": 8,
   "id": "ae8f54f7",
   "metadata": {},
   "outputs": [],
   "source": [
    "from langchain.text_splitter import RecursiveCharacterTextSplitter, Language\n",
    "from langchain_community.document_loaders import DirectoryLoader\n",
    "from langchain_community.document_loaders.parsers.txt import TextParser\n",
    "from langchain_community.document_loaders.text import TextLoader\n",
    "from langchain.vectorstores import Chroma\n",
    "from langchain_community.embeddings import OllamaEmbeddings\n",
    "from langchain.embeddings import OllamaEmbeddings\n",
    "from langchain.llms import Ollama\n",
    "from langchain.callbacks.manager import CallbackManager\n",
    "from langchain.callbacks.streaming_stdout import StreamingStdOutCallbackHandler\n",
    "from langchain.chains import RetrievalQA,RetrievalQAWithSourcesChain\n",
    "from langchain import hub\n",
    "from langchain_core.prompts import PromptTemplate\n",
    "from langchain.memory import ConversationBufferMemory\n",
    "import os\n",
    "import json\n",
    "import shutil"
   ]
  },
  {
   "cell_type": "code",
   "execution_count": 6,
   "id": "3226709a-ca1a-46ce-890d-66954f5c5559",
   "metadata": {},
   "outputs": [],
   "source": [
    "DATA_PATH=\"code/\"\n",
    "DB_PATH = \"vectorstores/db/\"\n",
    "model_name = 'codellama:70b'  \n",
    "memory = ConversationBufferMemory(output_key='answer')"
   ]
  },
  {
   "cell_type": "code",
   "execution_count": 7,
   "id": "b87d38c2-cc98-40db-a6dc-e74b4db03d86",
   "metadata": {},
   "outputs": [],
   "source": [
    "for root,dirs,files in os.walk(DB_PATH):\n",
    "    for f in files:\n",
    "        os.remove(f'{root}/{f}')\n",
    "    for d in dirs:\n",
    "        shutil.rmtree(f'{root}/{d}')"
   ]
  },
  {
   "cell_type": "code",
   "execution_count": 9,
   "id": "632c5d98-f63a-4b35-8432-cf03c946154f",
   "metadata": {},
   "outputs": [],
   "source": [
    "def create_vector_db():\n",
    "    loader = DirectoryLoader(DATA_PATH, glob=\"**/*.cs\",show_progress=True)\n",
    "    documents = loader.load()         \n",
    "    print(f\"Processed {len(documents)} cs files\")\n",
    "    text_splitter = RecursiveCharacterTextSplitter.from_language(language=Language.CSHARP,chunk_size=128, chunk_overlap=0)\n",
    "    texts=text_splitter.split_documents(documents)\n",
    "    vectorstore = Chroma.from_documents(documents=texts, embedding=OllamaEmbeddings(model=model_name, show_progress=True),persist_directory=DB_PATH)      \n",
    "    #vectorstore.persist()"
   ]
  },
  {
   "cell_type": "code",
   "execution_count": 10,
   "id": "1512cd5f-9795-4e15-ab63-c10328fc2e0a",
   "metadata": {},
   "outputs": [],
   "source": [
    "def retrieval_qa_chain(llm,vectorstore):\n",
    " qa_chain = RetrievalQAWithSourcesChain.from_chain_type(\n",
    "    llm,\n",
    "    chain_type=\"stuff\",\n",
    "    retriever=vectorstore.as_retriever(),\n",
    "    return_source_documents=True,\n",
    "    memory = memory\n",
    ")\n",
    " return qa_chain"
   ]
  },
  {
   "cell_type": "code",
   "execution_count": 11,
   "id": "5bf1135c-b322-48dd-ae3e-467c1fad0853",
   "metadata": {},
   "outputs": [],
   "source": [
    "def load_llm():\n",
    " llm = Ollama(\n",
    " model=model_name,\n",
    " verbose=True,\n",
    " callback_manager=CallbackManager([StreamingStdOutCallbackHandler()]),\n",
    " )\n",
    " return llm"
   ]
  },
  {
   "cell_type": "code",
   "execution_count": 12,
   "id": "23a05340-cf45-410a-afbd-53fe94d16c21",
   "metadata": {},
   "outputs": [],
   "source": [
    "def qa_bot(): \n",
    " llm=load_llm() \n",
    " vectorstore = Chroma(persist_directory=DB_PATH, embedding_function=OllamaEmbeddings(model=model_name, show_progress=True))\n",
    " qa = retrieval_qa_chain(llm,vectorstore)\n",
    " return qa "
   ]
  },
  {
   "cell_type": "code",
   "execution_count": 13,
   "id": "443c0a1b-b37d-4ceb-9873-de4d3ba38fd5",
   "metadata": {
    "scrolled": true
   },
   "outputs": [
    {
     "name": "stderr",
     "output_type": "stream",
     "text": [
      "0it [00:00, ?it/s]\n"
     ]
    },
    {
     "name": "stdout",
     "output_type": "stream",
     "text": [
      "Processed 0 cs files\n"
     ]
    },
    {
     "name": "stderr",
     "output_type": "stream",
     "text": [
      "OllamaEmbeddings: 0it [00:00, ?it/s]\n"
     ]
    },
    {
     "ename": "ValueError",
     "evalue": "Expected IDs to be a non-empty list, got 0 IDs",
     "output_type": "error",
     "traceback": [
      "\u001b[0;31m---------------------------------------------------------------------------\u001b[0m",
      "\u001b[0;31mValueError\u001b[0m                                Traceback (most recent call last)",
      "Cell \u001b[0;32mIn[13], line 1\u001b[0m\n\u001b[0;32m----> 1\u001b[0m \u001b[43mcreate_vector_db\u001b[49m\u001b[43m(\u001b[49m\u001b[43m)\u001b[49m\n",
      "Cell \u001b[0;32mIn[9], line 7\u001b[0m, in \u001b[0;36mcreate_vector_db\u001b[0;34m()\u001b[0m\n\u001b[1;32m      5\u001b[0m text_splitter \u001b[38;5;241m=\u001b[39m RecursiveCharacterTextSplitter\u001b[38;5;241m.\u001b[39mfrom_language(language\u001b[38;5;241m=\u001b[39mLanguage\u001b[38;5;241m.\u001b[39mCSHARP,chunk_size\u001b[38;5;241m=\u001b[39m\u001b[38;5;241m128\u001b[39m, chunk_overlap\u001b[38;5;241m=\u001b[39m\u001b[38;5;241m0\u001b[39m)\n\u001b[1;32m      6\u001b[0m texts\u001b[38;5;241m=\u001b[39mtext_splitter\u001b[38;5;241m.\u001b[39msplit_documents(documents)\n\u001b[0;32m----> 7\u001b[0m vectorstore \u001b[38;5;241m=\u001b[39m \u001b[43mChroma\u001b[49m\u001b[38;5;241;43m.\u001b[39;49m\u001b[43mfrom_documents\u001b[49m\u001b[43m(\u001b[49m\u001b[43mdocuments\u001b[49m\u001b[38;5;241;43m=\u001b[39;49m\u001b[43mtexts\u001b[49m\u001b[43m,\u001b[49m\u001b[43m \u001b[49m\u001b[43membedding\u001b[49m\u001b[38;5;241;43m=\u001b[39;49m\u001b[43mOllamaEmbeddings\u001b[49m\u001b[43m(\u001b[49m\u001b[43mmodel\u001b[49m\u001b[38;5;241;43m=\u001b[39;49m\u001b[43mmodel_name\u001b[49m\u001b[43m,\u001b[49m\u001b[43m \u001b[49m\u001b[43mshow_progress\u001b[49m\u001b[38;5;241;43m=\u001b[39;49m\u001b[38;5;28;43;01mTrue\u001b[39;49;00m\u001b[43m)\u001b[49m\u001b[43m,\u001b[49m\u001b[43mpersist_directory\u001b[49m\u001b[38;5;241;43m=\u001b[39;49m\u001b[43mDB_PATH\u001b[49m\u001b[43m)\u001b[49m\n",
      "File \u001b[0;32m~/.virtualenvs/code_rag_env/lib/python3.10/site-packages/langchain_community/vectorstores/chroma.py:878\u001b[0m, in \u001b[0;36mChroma.from_documents\u001b[0;34m(cls, documents, embedding, ids, collection_name, persist_directory, client_settings, client, collection_metadata, **kwargs)\u001b[0m\n\u001b[1;32m    876\u001b[0m texts \u001b[38;5;241m=\u001b[39m [doc\u001b[38;5;241m.\u001b[39mpage_content \u001b[38;5;28;01mfor\u001b[39;00m doc \u001b[38;5;129;01min\u001b[39;00m documents]\n\u001b[1;32m    877\u001b[0m metadatas \u001b[38;5;241m=\u001b[39m [doc\u001b[38;5;241m.\u001b[39mmetadata \u001b[38;5;28;01mfor\u001b[39;00m doc \u001b[38;5;129;01min\u001b[39;00m documents]\n\u001b[0;32m--> 878\u001b[0m \u001b[38;5;28;01mreturn\u001b[39;00m \u001b[38;5;28;43mcls\u001b[39;49m\u001b[38;5;241;43m.\u001b[39;49m\u001b[43mfrom_texts\u001b[49m\u001b[43m(\u001b[49m\n\u001b[1;32m    879\u001b[0m \u001b[43m    \u001b[49m\u001b[43mtexts\u001b[49m\u001b[38;5;241;43m=\u001b[39;49m\u001b[43mtexts\u001b[49m\u001b[43m,\u001b[49m\n\u001b[1;32m    880\u001b[0m \u001b[43m    \u001b[49m\u001b[43membedding\u001b[49m\u001b[38;5;241;43m=\u001b[39;49m\u001b[43membedding\u001b[49m\u001b[43m,\u001b[49m\n\u001b[1;32m    881\u001b[0m \u001b[43m    \u001b[49m\u001b[43mmetadatas\u001b[49m\u001b[38;5;241;43m=\u001b[39;49m\u001b[43mmetadatas\u001b[49m\u001b[43m,\u001b[49m\n\u001b[1;32m    882\u001b[0m \u001b[43m    \u001b[49m\u001b[43mids\u001b[49m\u001b[38;5;241;43m=\u001b[39;49m\u001b[43mids\u001b[49m\u001b[43m,\u001b[49m\n\u001b[1;32m    883\u001b[0m \u001b[43m    \u001b[49m\u001b[43mcollection_name\u001b[49m\u001b[38;5;241;43m=\u001b[39;49m\u001b[43mcollection_name\u001b[49m\u001b[43m,\u001b[49m\n\u001b[1;32m    884\u001b[0m \u001b[43m    \u001b[49m\u001b[43mpersist_directory\u001b[49m\u001b[38;5;241;43m=\u001b[39;49m\u001b[43mpersist_directory\u001b[49m\u001b[43m,\u001b[49m\n\u001b[1;32m    885\u001b[0m \u001b[43m    \u001b[49m\u001b[43mclient_settings\u001b[49m\u001b[38;5;241;43m=\u001b[39;49m\u001b[43mclient_settings\u001b[49m\u001b[43m,\u001b[49m\n\u001b[1;32m    886\u001b[0m \u001b[43m    \u001b[49m\u001b[43mclient\u001b[49m\u001b[38;5;241;43m=\u001b[39;49m\u001b[43mclient\u001b[49m\u001b[43m,\u001b[49m\n\u001b[1;32m    887\u001b[0m \u001b[43m    \u001b[49m\u001b[43mcollection_metadata\u001b[49m\u001b[38;5;241;43m=\u001b[39;49m\u001b[43mcollection_metadata\u001b[49m\u001b[43m,\u001b[49m\n\u001b[1;32m    888\u001b[0m \u001b[43m    \u001b[49m\u001b[38;5;241;43m*\u001b[39;49m\u001b[38;5;241;43m*\u001b[39;49m\u001b[43mkwargs\u001b[49m\u001b[43m,\u001b[49m\n\u001b[1;32m    889\u001b[0m \u001b[43m\u001b[49m\u001b[43m)\u001b[49m\n",
      "File \u001b[0;32m~/.virtualenvs/code_rag_env/lib/python3.10/site-packages/langchain_community/vectorstores/chroma.py:842\u001b[0m, in \u001b[0;36mChroma.from_texts\u001b[0;34m(cls, texts, embedding, metadatas, ids, collection_name, persist_directory, client_settings, client, collection_metadata, **kwargs)\u001b[0m\n\u001b[1;32m    836\u001b[0m         chroma_collection\u001b[38;5;241m.\u001b[39madd_texts(\n\u001b[1;32m    837\u001b[0m             texts\u001b[38;5;241m=\u001b[39mbatch[\u001b[38;5;241m3\u001b[39m] \u001b[38;5;28;01mif\u001b[39;00m batch[\u001b[38;5;241m3\u001b[39m] \u001b[38;5;28;01melse\u001b[39;00m [],\n\u001b[1;32m    838\u001b[0m             metadatas\u001b[38;5;241m=\u001b[39mbatch[\u001b[38;5;241m2\u001b[39m] \u001b[38;5;28;01mif\u001b[39;00m batch[\u001b[38;5;241m2\u001b[39m] \u001b[38;5;28;01melse\u001b[39;00m \u001b[38;5;28;01mNone\u001b[39;00m,\n\u001b[1;32m    839\u001b[0m             ids\u001b[38;5;241m=\u001b[39mbatch[\u001b[38;5;241m0\u001b[39m],\n\u001b[1;32m    840\u001b[0m         )\n\u001b[1;32m    841\u001b[0m \u001b[38;5;28;01melse\u001b[39;00m:\n\u001b[0;32m--> 842\u001b[0m     \u001b[43mchroma_collection\u001b[49m\u001b[38;5;241;43m.\u001b[39;49m\u001b[43madd_texts\u001b[49m\u001b[43m(\u001b[49m\u001b[43mtexts\u001b[49m\u001b[38;5;241;43m=\u001b[39;49m\u001b[43mtexts\u001b[49m\u001b[43m,\u001b[49m\u001b[43m \u001b[49m\u001b[43mmetadatas\u001b[49m\u001b[38;5;241;43m=\u001b[39;49m\u001b[43mmetadatas\u001b[49m\u001b[43m,\u001b[49m\u001b[43m \u001b[49m\u001b[43mids\u001b[49m\u001b[38;5;241;43m=\u001b[39;49m\u001b[43mids\u001b[49m\u001b[43m)\u001b[49m\n\u001b[1;32m    843\u001b[0m \u001b[38;5;28;01mreturn\u001b[39;00m chroma_collection\n",
      "File \u001b[0;32m~/.virtualenvs/code_rag_env/lib/python3.10/site-packages/langchain_community/vectorstores/chroma.py:326\u001b[0m, in \u001b[0;36mChroma.add_texts\u001b[0;34m(self, texts, metadatas, ids, **kwargs)\u001b[0m\n\u001b[1;32m    320\u001b[0m         \u001b[38;5;28mself\u001b[39m\u001b[38;5;241m.\u001b[39m_collection\u001b[38;5;241m.\u001b[39mupsert(\n\u001b[1;32m    321\u001b[0m             embeddings\u001b[38;5;241m=\u001b[39membeddings_without_metadatas,\n\u001b[1;32m    322\u001b[0m             documents\u001b[38;5;241m=\u001b[39mtexts_without_metadatas,\n\u001b[1;32m    323\u001b[0m             ids\u001b[38;5;241m=\u001b[39mids_without_metadatas,\n\u001b[1;32m    324\u001b[0m         )\n\u001b[1;32m    325\u001b[0m \u001b[38;5;28;01melse\u001b[39;00m:\n\u001b[0;32m--> 326\u001b[0m     \u001b[38;5;28;43mself\u001b[39;49m\u001b[38;5;241;43m.\u001b[39;49m\u001b[43m_collection\u001b[49m\u001b[38;5;241;43m.\u001b[39;49m\u001b[43mupsert\u001b[49m\u001b[43m(\u001b[49m\n\u001b[1;32m    327\u001b[0m \u001b[43m        \u001b[49m\u001b[43membeddings\u001b[49m\u001b[38;5;241;43m=\u001b[39;49m\u001b[43membeddings\u001b[49m\u001b[43m,\u001b[49m\n\u001b[1;32m    328\u001b[0m \u001b[43m        \u001b[49m\u001b[43mdocuments\u001b[49m\u001b[38;5;241;43m=\u001b[39;49m\u001b[43mtexts\u001b[49m\u001b[43m,\u001b[49m\n\u001b[1;32m    329\u001b[0m \u001b[43m        \u001b[49m\u001b[43mids\u001b[49m\u001b[38;5;241;43m=\u001b[39;49m\u001b[43mids\u001b[49m\u001b[43m,\u001b[49m\n\u001b[1;32m    330\u001b[0m \u001b[43m    \u001b[49m\u001b[43m)\u001b[49m\n\u001b[1;32m    331\u001b[0m \u001b[38;5;28;01mreturn\u001b[39;00m ids\n",
      "File \u001b[0;32m~/.virtualenvs/code_rag_env/lib/python3.10/site-packages/chromadb/api/models/Collection.py:296\u001b[0m, in \u001b[0;36mCollection.upsert\u001b[0;34m(self, ids, embeddings, metadatas, documents, images, uris)\u001b[0m\n\u001b[1;32m    265\u001b[0m \u001b[38;5;28;01mdef\u001b[39;00m \u001b[38;5;21mupsert\u001b[39m(\n\u001b[1;32m    266\u001b[0m     \u001b[38;5;28mself\u001b[39m,\n\u001b[1;32m    267\u001b[0m     ids: OneOrMany[ID],\n\u001b[0;32m   (...)\u001b[0m\n\u001b[1;32m    277\u001b[0m     uris: Optional[OneOrMany[URI]] \u001b[38;5;241m=\u001b[39m \u001b[38;5;28;01mNone\u001b[39;00m,\n\u001b[1;32m    278\u001b[0m ) \u001b[38;5;241m-\u001b[39m\u001b[38;5;241m>\u001b[39m \u001b[38;5;28;01mNone\u001b[39;00m:\n\u001b[1;32m    279\u001b[0m \u001b[38;5;250m    \u001b[39m\u001b[38;5;124;03m\"\"\"Update the embeddings, metadatas or documents for provided ids, or create them if they don't exist.\u001b[39;00m\n\u001b[1;32m    280\u001b[0m \n\u001b[1;32m    281\u001b[0m \u001b[38;5;124;03m    Args:\u001b[39;00m\n\u001b[0;32m   (...)\u001b[0m\n\u001b[1;32m    288\u001b[0m \u001b[38;5;124;03m        None\u001b[39;00m\n\u001b[1;32m    289\u001b[0m \u001b[38;5;124;03m    \"\"\"\u001b[39;00m\n\u001b[1;32m    290\u001b[0m     (\n\u001b[1;32m    291\u001b[0m         ids,\n\u001b[1;32m    292\u001b[0m         embeddings,\n\u001b[1;32m    293\u001b[0m         metadatas,\n\u001b[1;32m    294\u001b[0m         documents,\n\u001b[1;32m    295\u001b[0m         uris,\n\u001b[0;32m--> 296\u001b[0m     ) \u001b[38;5;241m=\u001b[39m \u001b[38;5;28;43mself\u001b[39;49m\u001b[38;5;241;43m.\u001b[39;49m\u001b[43m_validate_and_prepare_upsert_request\u001b[49m\u001b[43m(\u001b[49m\n\u001b[1;32m    297\u001b[0m \u001b[43m        \u001b[49m\u001b[43mids\u001b[49m\u001b[43m,\u001b[49m\u001b[43m \u001b[49m\u001b[43membeddings\u001b[49m\u001b[43m,\u001b[49m\u001b[43m \u001b[49m\u001b[43mmetadatas\u001b[49m\u001b[43m,\u001b[49m\u001b[43m \u001b[49m\u001b[43mdocuments\u001b[49m\u001b[43m,\u001b[49m\u001b[43m \u001b[49m\u001b[43mimages\u001b[49m\u001b[43m,\u001b[49m\u001b[43m \u001b[49m\u001b[43muris\u001b[49m\n\u001b[1;32m    298\u001b[0m \u001b[43m    \u001b[49m\u001b[43m)\u001b[49m\n\u001b[1;32m    300\u001b[0m     \u001b[38;5;28mself\u001b[39m\u001b[38;5;241m.\u001b[39m_client\u001b[38;5;241m.\u001b[39m_upsert(\n\u001b[1;32m    301\u001b[0m         collection_id\u001b[38;5;241m=\u001b[39m\u001b[38;5;28mself\u001b[39m\u001b[38;5;241m.\u001b[39mid,\n\u001b[1;32m    302\u001b[0m         ids\u001b[38;5;241m=\u001b[39mids,\n\u001b[0;32m   (...)\u001b[0m\n\u001b[1;32m    306\u001b[0m         uris\u001b[38;5;241m=\u001b[39muris,\n\u001b[1;32m    307\u001b[0m     )\n",
      "File \u001b[0;32m~/.virtualenvs/code_rag_env/lib/python3.10/site-packages/chromadb/api/models/CollectionCommon.py:525\u001b[0m, in \u001b[0;36mCollectionCommon._validate_and_prepare_upsert_request\u001b[0;34m(self, ids, embeddings, metadatas, documents, images, uris)\u001b[0m\n\u001b[1;32m    498\u001b[0m \u001b[38;5;28;01mdef\u001b[39;00m \u001b[38;5;21m_validate_and_prepare_upsert_request\u001b[39m(\n\u001b[1;32m    499\u001b[0m     \u001b[38;5;28mself\u001b[39m,\n\u001b[1;32m    500\u001b[0m     ids: OneOrMany[ID],\n\u001b[0;32m   (...)\u001b[0m\n\u001b[1;32m    516\u001b[0m     Optional[URIs],\n\u001b[1;32m    517\u001b[0m ]:\n\u001b[1;32m    518\u001b[0m     (\n\u001b[1;32m    519\u001b[0m         ids,\n\u001b[1;32m    520\u001b[0m         embeddings,\n\u001b[1;32m    521\u001b[0m         metadatas,\n\u001b[1;32m    522\u001b[0m         documents,\n\u001b[1;32m    523\u001b[0m         images,\n\u001b[1;32m    524\u001b[0m         uris,\n\u001b[0;32m--> 525\u001b[0m     ) \u001b[38;5;241m=\u001b[39m \u001b[38;5;28;43mself\u001b[39;49m\u001b[38;5;241;43m.\u001b[39;49m\u001b[43m_validate_embedding_set\u001b[49m\u001b[43m(\u001b[49m\n\u001b[1;32m    526\u001b[0m \u001b[43m        \u001b[49m\u001b[43mids\u001b[49m\u001b[43m,\u001b[49m\u001b[43m \u001b[49m\u001b[43membeddings\u001b[49m\u001b[43m,\u001b[49m\u001b[43m \u001b[49m\u001b[43mmetadatas\u001b[49m\u001b[43m,\u001b[49m\u001b[43m \u001b[49m\u001b[43mdocuments\u001b[49m\u001b[43m,\u001b[49m\u001b[43m \u001b[49m\u001b[43mimages\u001b[49m\u001b[43m,\u001b[49m\u001b[43m \u001b[49m\u001b[43muris\u001b[49m\n\u001b[1;32m    527\u001b[0m \u001b[43m    \u001b[49m\u001b[43m)\u001b[49m\n\u001b[1;32m    529\u001b[0m     \u001b[38;5;28;01mif\u001b[39;00m embeddings \u001b[38;5;129;01mis\u001b[39;00m \u001b[38;5;28;01mNone\u001b[39;00m:\n\u001b[1;32m    530\u001b[0m         \u001b[38;5;28;01mif\u001b[39;00m documents \u001b[38;5;129;01mis\u001b[39;00m \u001b[38;5;129;01mnot\u001b[39;00m \u001b[38;5;28;01mNone\u001b[39;00m:\n",
      "File \u001b[0;32m~/.virtualenvs/code_rag_env/lib/python3.10/site-packages/chromadb/api/models/CollectionCommon.py:173\u001b[0m, in \u001b[0;36mCollectionCommon._validate_embedding_set\u001b[0;34m(self, ids, embeddings, metadatas, documents, images, uris, require_embeddings_or_data)\u001b[0m\n\u001b[1;32m    151\u001b[0m \u001b[38;5;28;01mdef\u001b[39;00m \u001b[38;5;21m_validate_embedding_set\u001b[39m(\n\u001b[1;32m    152\u001b[0m     \u001b[38;5;28mself\u001b[39m,\n\u001b[1;32m    153\u001b[0m     ids: OneOrMany[ID],\n\u001b[0;32m   (...)\u001b[0m\n\u001b[1;32m    171\u001b[0m     Optional[URIs],\n\u001b[1;32m    172\u001b[0m ]:\n\u001b[0;32m--> 173\u001b[0m     valid_ids \u001b[38;5;241m=\u001b[39m \u001b[43mvalidate_ids\u001b[49m\u001b[43m(\u001b[49m\u001b[43mmaybe_cast_one_to_many_ids\u001b[49m\u001b[43m(\u001b[49m\u001b[43mids\u001b[49m\u001b[43m)\u001b[49m\u001b[43m)\u001b[49m\n\u001b[1;32m    174\u001b[0m     valid_embeddings \u001b[38;5;241m=\u001b[39m (\n\u001b[1;32m    175\u001b[0m         validate_embeddings(\n\u001b[1;32m    176\u001b[0m             \u001b[38;5;28mself\u001b[39m\u001b[38;5;241m.\u001b[39m_normalize_embeddings(maybe_cast_one_to_many_embedding(embeddings))\n\u001b[0;32m   (...)\u001b[0m\n\u001b[1;32m    179\u001b[0m         \u001b[38;5;28;01melse\u001b[39;00m \u001b[38;5;28;01mNone\u001b[39;00m\n\u001b[1;32m    180\u001b[0m     )\n\u001b[1;32m    181\u001b[0m     valid_metadatas \u001b[38;5;241m=\u001b[39m (\n\u001b[1;32m    182\u001b[0m         validate_metadatas(maybe_cast_one_to_many_metadata(metadatas))\n\u001b[1;32m    183\u001b[0m         \u001b[38;5;28;01mif\u001b[39;00m metadatas \u001b[38;5;129;01mis\u001b[39;00m \u001b[38;5;129;01mnot\u001b[39;00m \u001b[38;5;28;01mNone\u001b[39;00m\n\u001b[1;32m    184\u001b[0m         \u001b[38;5;28;01melse\u001b[39;00m \u001b[38;5;28;01mNone\u001b[39;00m\n\u001b[1;32m    185\u001b[0m     )\n",
      "File \u001b[0;32m~/.virtualenvs/code_rag_env/lib/python3.10/site-packages/chromadb/api/types.py:248\u001b[0m, in \u001b[0;36mvalidate_ids\u001b[0;34m(ids)\u001b[0m\n\u001b[1;32m    246\u001b[0m     \u001b[38;5;28;01mraise\u001b[39;00m \u001b[38;5;167;01mValueError\u001b[39;00m(\u001b[38;5;124mf\u001b[39m\u001b[38;5;124m\"\u001b[39m\u001b[38;5;124mExpected IDs to be a list, got \u001b[39m\u001b[38;5;132;01m{\u001b[39;00m\u001b[38;5;28mtype\u001b[39m(ids)\u001b[38;5;241m.\u001b[39m\u001b[38;5;18m__name__\u001b[39m\u001b[38;5;132;01m}\u001b[39;00m\u001b[38;5;124m as IDs\u001b[39m\u001b[38;5;124m\"\u001b[39m)\n\u001b[1;32m    247\u001b[0m \u001b[38;5;28;01mif\u001b[39;00m \u001b[38;5;28mlen\u001b[39m(ids) \u001b[38;5;241m==\u001b[39m \u001b[38;5;241m0\u001b[39m:\n\u001b[0;32m--> 248\u001b[0m     \u001b[38;5;28;01mraise\u001b[39;00m \u001b[38;5;167;01mValueError\u001b[39;00m(\u001b[38;5;124mf\u001b[39m\u001b[38;5;124m\"\u001b[39m\u001b[38;5;124mExpected IDs to be a non-empty list, got \u001b[39m\u001b[38;5;132;01m{\u001b[39;00m\u001b[38;5;28mlen\u001b[39m(ids)\u001b[38;5;132;01m}\u001b[39;00m\u001b[38;5;124m IDs\u001b[39m\u001b[38;5;124m\"\u001b[39m)\n\u001b[1;32m    249\u001b[0m seen \u001b[38;5;241m=\u001b[39m \u001b[38;5;28mset\u001b[39m()\n\u001b[1;32m    250\u001b[0m dups \u001b[38;5;241m=\u001b[39m \u001b[38;5;28mset\u001b[39m()\n",
      "\u001b[0;31mValueError\u001b[0m: Expected IDs to be a non-empty list, got 0 IDs"
     ]
    }
   ],
   "source": [
    "create_vector_db()"
   ]
  },
  {
   "cell_type": "code",
   "execution_count": 9,
   "id": "02ef6043-228a-434d-90c9-ad9fcdeb90af",
   "metadata": {},
   "outputs": [
    {
     "data": {
      "text/plain": [
       "Ollama(verbose=True, callbacks=<langchain_core.callbacks.manager.CallbackManager object at 0x7fed24cdfb80>, model='llama3.1:70b')"
      ]
     },
     "execution_count": 9,
     "metadata": {},
     "output_type": "execute_result"
    }
   ],
   "source": [
    "llm = load_llm()\n",
    "llm"
   ]
  },
  {
   "cell_type": "code",
   "execution_count": 10,
   "id": "de850574-484b-4986-a3b9-c6fc2d250a05",
   "metadata": {},
   "outputs": [],
   "source": [
    "chain=qa_bot()"
   ]
  },
  {
   "cell_type": "code",
   "execution_count": 11,
   "id": "e1145668-f5e6-4aeb-96ac-19563e12982f",
   "metadata": {},
   "outputs": [],
   "source": [
    "rating_question = 'Based on how Paul performed please provide a rating \"Achieves Expectations\", \"Exceeds Expectations\", \"Rockstar\", or \"Needs Improvement\" for the review summary that was just written.'"
   ]
  },
  {
   "cell_type": "code",
   "execution_count": 12,
   "id": "a8f5acde-8a2c-49bd-8571-797083ff225b",
   "metadata": {},
   "outputs": [],
   "source": [
    "review_questions = ['How does paul deliver work in line with the expectations for his role?',\n",
    "                    'To what extent does paul achieve his set goals and how do these achievements contribute to the team’s and organization’s objective?',\n",
    "                    'How does paul live the ISMs, demonstrate Antes to Succeed behaviors, and adhere to the expectations in the company Guideposts?',\n",
    "                    'How does this paul demonstrate innovation and take initiative toward the team’s success?',\n",
    "                    'How does paul actively mentor others and provide actionable feedback to create growth and impact?']\n",
    "                    "
   ]
  },
  {
   "cell_type": "code",
   "execution_count": 13,
   "id": "62c9d4e1-9eb1-4380-bdab-3bce9618c3dd",
   "metadata": {},
   "outputs": [],
   "source": [
    "final_rating_question = 'Based on the collected feedback and suammaries, please provide and overall performance rating (\"Achieves Expectations\", \"Exceeds Expectations\", \"Rockstar\", or \"Needs Improvement\") for this review period.' "
   ]
  },
  {
   "cell_type": "code",
   "execution_count": 14,
   "id": "a4b24e5c-0a8a-4284-b6e7-9ada7c7504c8",
   "metadata": {},
   "outputs": [],
   "source": [
    "prompt_template = PromptTemplate.from_template(\n",
    "    'Paul is a software architect.  Giving preference to Team Lead feedback write a concise review and cite four or five examples to answer the question \"{question}\"'\n",
    ")"
   ]
  },
  {
   "cell_type": "code",
   "execution_count": 15,
   "id": "23735adc-e041-4c54-9c5b-1135432be734",
   "metadata": {},
   "outputs": [
    {
     "name": "stderr",
     "output_type": "stream",
     "text": [
      "OllamaEmbeddings: 100%|███████████████████████████████████████████████████████████████████| 1/1 [00:06<00:00,  6.30s/it]\n"
     ]
    },
    {
     "name": "stdout",
     "output_type": "stream",
     "text": [
      "The Software Architect at Rocket Mortgage acts as a technical thought leader who influences functional and non-functional requirements, contributes technical work items to the product roadmap, and oversees discussions with technical stakeholders. They are also responsible for elevating engineering team performance and have demonstrated their ability to engineer at a higher caliber.\n",
      "\n",
      "SOURCES: data/role/software_architect.txt"
     ]
    },
    {
     "data": {
      "text/plain": [
       "{'question': 'Please describe the role and responsibilities of a software architect, according to Rocket Mortgage.  Do not include any feedback or notes documents.',\n",
       " 'history': '',\n",
       " 'answer': 'The Software Architect at Rocket Mortgage acts as a technical thought leader who influences functional and non-functional requirements, contributes technical work items to the product roadmap, and oversees discussions with technical stakeholders. They are also responsible for elevating engineering team performance and have demonstrated their ability to engineer at a higher caliber.\\n\\n',\n",
       " 'sources': 'data/role/software_architect.txt',\n",
       " 'source_documents': [Document(metadata={'source': 'data/role/software_architect.txt'}, page_content='The Software Architect acts as a technical thought leader with a deep understanding of the necessary trade-offs in the architectural design and integrations within their product area. They influence FRs and NFRs, contribute technical work items to the product roadmap and oversee deliberations with technical stakeholders to ensure the quality and functionality of the software. They are also responsible for elevating engineering team performance and have demonstrated their ability to engineer at a higher caliber.'),\n",
       "  Document(metadata={'source': 'data/feedback/lpeploe_20240618.txt'}, page_content=\"This is peer review from Lisa Peploe said Paul is the definition of Antes to Succeed, Care Create, Connect, Deliver and Grow. His proactive approach to championing change, such as proposing engineering meetings for discussing data strategy and training on new technologies, shows your dedication to personal and team growth. His ability to connect with team members and stakeholders is commendable. His effective communication and relationship-building skills contribute significantly to our train's effectiveness. He always brings incredible topics to the Train Architecture Sync such as innovative machine learning and more. His initiative in creating process improvements has been invaluable with multiple discussions on integration testing. It has been a joy working with Paul and I look forward to all I will learn from him in the future.\"),\n",
       "  Document(metadata={'Context': 'Definition of the role rating Exceeds Expectations', 'source': 'data/ratings/exceeds_expectations.txt'}, page_content=\"A software architect that Exceeds Expectations for the role consistently produces high-quality work that exceeds role expectations, while actively seeking opportunities to contribute beyond the typical scope of work, enhancing the team's success. A software architect that Exceeds Expectations consistently exceeds challenging goals that contribute to the overall success of the team and organization. A software architect that Exceeds Expectations has behavior that consistently fosters team growth and positive outcomes by providing actionable feedback and demonstrating strong alignment with ISMs, Antes to Succeed and Company Guideposts, thereby significantly contributing to the team's success.\"),\n",
       "  Document(metadata={'Context': 'Definition of the role rating Achieves Expectations', 'source': 'data/ratings/achieves_expectations.txt'}, page_content=\"A software architect that Achieves Expectations consistently produces quality work that meets role expectations and delivers impactful results for the business. A software architect that Achieves Expectations goals is consistent in achieving goals that contribute to the team and organization's overall success. A software architect that Achieves Expectations has behavior that consistently demonstrates alignment with the ISMs, Antes to Succeed and the expectations outlined in our Company Guideposts.\")]}"
      ]
     },
     "execution_count": 15,
     "metadata": {},
     "output_type": "execute_result"
    }
   ],
   "source": [
    "chain.invoke(\"Please describe the role and responsibilities of a software architect, according to Rocket Mortgage.  Do not include any feedback or notes documents.\")"
   ]
  },
  {
   "cell_type": "code",
   "execution_count": 16,
   "id": "c61c197f-cd79-463c-aa5d-9da95c353543",
   "metadata": {},
   "outputs": [],
   "source": [
    "saved_memory = memory"
   ]
  },
  {
   "cell_type": "code",
   "execution_count": 17,
   "id": "1b527640-3a63-4301-9953-7e4957b845af",
   "metadata": {},
   "outputs": [
    {
     "name": "stdout",
     "output_type": "stream",
     "text": [
      "\n",
      "\n",
      "The prompt is Paul is a software architect.  Giving preference to Team Lead feedback write a concise review and cite four or five examples to answer the question \"How does paul deliver work in line with the expectations for his role?\"\n",
      "\n",
      "\n"
     ]
    },
    {
     "name": "stderr",
     "output_type": "stream",
     "text": [
      "OllamaEmbeddings: 100%|███████████████████████████████████████████████████████████████████| 1/1 [00:01<00:00,  1.25s/it]\n"
     ]
    },
    {
     "name": "stdout",
     "output_type": "stream",
     "text": [
      "Paul delivers work in line with the expectations for his role by:\n",
      "\n",
      "* Proposing engineering meetings to discuss data strategy and train on new technologies, showcasing his dedication to personal and team growth (Lisa Peploe's feedback)\n",
      "* Bringing innovative topics to Train Architecture Sync, such as machine learning, and creating process improvements through discussions on integration testing (Lisa Peploe's feedback)\n",
      "* Acting as a technical thought leader with a deep understanding of necessary trade-offs in architectural design and integrations within his product area (Software Architect role description)\n",
      "* Elevating engineering team performance and demonstrating the ability to engineer at a higher caliber (Software Architect role description)\n",
      "* Providing actionable feedback and demonstrating strong alignment with ISMs, Antes to Succeed, and Company Guideposts, thereby significantly contributing to the team's success (Exceeds Expectations rating description)\n",
      "\n",
      "Overall, Paul consistently produces high-quality work that exceeds role expectations, actively seeks opportunities to contribute beyond the typical scope of work, and fosters team growth and positive outcomes.\n",
      "\n",
      "SOURCES:\n",
      "\n",
      "* data/feedback/lpeploe_20240618.txt\n",
      "* data/ratings/exceeds_expectations.txt\n",
      "* data/role/software_architect.txt\n",
      "* data/feedback/gsharma_20240611.txtdict_keys(['question', 'history', 'answer', 'sources', 'source_documents'])\n"
     ]
    },
    {
     "name": "stderr",
     "output_type": "stream",
     "text": [
      "OllamaEmbeddings: 100%|███████████████████████████████████████████████████████████████████| 1/1 [00:01<00:00,  1.30s/it]\n"
     ]
    },
    {
     "name": "stdout",
     "output_type": "stream",
     "text": [
      "Rockstar \n",
      "\n",
      "Paul consistently exceeds expectations with his technical expertise, proactive approach to championing change, and dedication to personal and team growth. He embodies the Antes to Succeed, Care Create, Connect, Deliver, and Grow, and has made significant contributions to the team's success through his effective communication, relationship-building skills, and initiative in creating process improvements.dict_keys(['question', 'history', 'answer', 'sources', 'source_documents'])\n",
      "\n",
      "\n",
      "The prompt is Paul is a software architect.  Giving preference to Team Lead feedback write a concise review and cite four or five examples to answer the question \"To what extent does paul achieve his set goals and how do these achievements contribute to the team’s and organization’s objective?\"\n",
      "\n",
      "\n"
     ]
    },
    {
     "name": "stderr",
     "output_type": "stream",
     "text": [
      "OllamaEmbeddings: 100%|███████████████████████████████████████████████████████████████████| 1/1 [00:01<00:00,  1.32s/it]\n"
     ]
    },
    {
     "name": "stdout",
     "output_type": "stream",
     "text": [
      "Paul achieves his set goals to a great extent, which contributes significantly to the team's and organization's objectives. Here are four examples that demonstrate this:\n",
      "\n",
      "1. **Effective Communication and Relationship-Building**: Paul's ability to connect with team members and stakeholders is commendable (Lisa Peploe). He brings incredible topics to the Train Architecture Sync and creates an environment where others feel comfortable sharing their ideas.\n",
      "\n",
      "2. **Initiative in Creating Process Improvements**: Paul has been invaluable in multiple discussions on integration testing, showing his dedication to improving processes (Lisa Peploe).\n",
      "\n",
      "3. **Technical Foresight and Innovation**: Paul is always coming up with innovative machine learning solutions and AI initiatives, such as using LLM in Omega project to automate the audit process (Gagan). He also suggests improvements to their solutions.\n",
      "\n",
      "4. **Leadership and Mentorship**: Paul acts as a technical thought leader, influencing FRs and NFRs, contributing technical work items to the product roadmap, and overseeing deliberations with technical stakeholders (Software Architect role description).\n",
      "\n",
      "These achievements demonstrate that Paul exceeds expectations for his role, consistently producing high-quality work that enhances the team's success. His behavior fosters team growth and positive outcomes by providing actionable feedback and demonstrating strong alignment with ISMs, Antes to Succeed, and Company Guideposts.\n",
      "\n",
      "SOURCES:\n",
      "- data/feedback/lpeploe_20240618.txt\n",
      "- data/feedback/gsharma_20240611.txt\n",
      "- data/role/software_architect.txt\n",
      "- data/ratings/exceeds_expectations.txtdict_keys(['question', 'history', 'answer', 'sources', 'source_documents'])\n"
     ]
    },
    {
     "name": "stderr",
     "output_type": "stream",
     "text": [
      "OllamaEmbeddings: 100%|███████████████████████████████████████████████████████████████████| 1/1 [00:01<00:00,  1.22s/it]\n"
     ]
    },
    {
     "name": "stdout",
     "output_type": "stream",
     "text": [
      "Rockstardict_keys(['question', 'history', 'answer', 'sources', 'source_documents'])\n",
      "\n",
      "\n",
      "The prompt is Paul is a software architect.  Giving preference to Team Lead feedback write a concise review and cite four or five examples to answer the question \"How does paul live the ISMs, demonstrate Antes to Succeed behaviors, and adhere to the expectations in the company Guideposts?\"\n",
      "\n",
      "\n"
     ]
    },
    {
     "name": "stderr",
     "output_type": "stream",
     "text": [
      "OllamaEmbeddings: 100%|███████████████████████████████████████████████████████████████████| 1/1 [00:01<00:00,  1.20s/it]\n"
     ]
    },
    {
     "name": "stdout",
     "output_type": "stream",
     "text": [
      "Paul lives the ISMs, demonstrates Antes to Succeed behaviors, and adheres to the expectations in the company Guideposts by consistently producing high-quality work that exceeds role expectations. He actively seeks opportunities to contribute beyond the typical scope of work, enhancing the team's success.\n",
      "\n",
      "Examples include:\n",
      "\n",
      "* Championing change by proposing engineering meetings for discussing data strategy and training on new technologies (Lisa Peploe's feedback).\n",
      "* Creating process improvements through multiple discussions on integration testing (Lisa Peploe's feedback).\n",
      "* Providing a platform for team members to share ideas and potential changes in the system through architecture hours (Gagan's feedback).\n",
      "* Helping with AI initiatives like using LLM in Omega project to automate the audit process (Gagan's feedback).\n",
      "* Fostering team growth and positive outcomes by providing actionable feedback and demonstrating strong alignment with ISMs, Antes to Succeed, and Company Guideposts (Software Architect role description).\n",
      "\n",
      "These examples demonstrate Paul's proactive approach to his work, his ability to connect with team members and stakeholders, and his commitment to personal and team growth.\n",
      "\n",
      "SOURCES:\n",
      "\n",
      "* data/feedback/lpeploe_20240618.txt\n",
      "* data/feedback/gsharma_20240611.txt\n",
      "* data/role/software_architect.txt\n",
      "* data/ratings/exceeds_expectations.txtdict_keys(['question', 'history', 'answer', 'sources', 'source_documents'])\n"
     ]
    },
    {
     "name": "stderr",
     "output_type": "stream",
     "text": [
      "OllamaEmbeddings: 100%|███████████████████████████████████████████████████████████████████| 1/1 [00:01<00:00,  1.32s/it]\n"
     ]
    },
    {
     "name": "stdout",
     "output_type": "stream",
     "text": [
      "Rockstar \n",
      "\n",
      "The ratings \"Achieves Expectations\", \"Exceeds Expectations\", and \"Needs Improvement\" are insufficient to capture the exceptional performance of Paul as described in the reviews. The reviews portray him as an exceptional technologist, team player, mentor, and individual who consistently goes above and beyond expectations. His mastery of his craft, dedication to growth, ability to connect with others, and commitment to excellence make him a standout performer who embodies all the Antes to Succeed and Company Guideposts.dict_keys(['question', 'history', 'answer', 'sources', 'source_documents'])\n",
      "\n",
      "\n",
      "The prompt is Paul is a software architect.  Giving preference to Team Lead feedback write a concise review and cite four or five examples to answer the question \"How does this paul demonstrate innovation and take initiative toward the team’s success?\"\n",
      "\n",
      "\n"
     ]
    },
    {
     "name": "stderr",
     "output_type": "stream",
     "text": [
      "OllamaEmbeddings: 100%|███████████████████████████████████████████████████████████████████| 1/1 [00:01<00:00,  1.22s/it]\n"
     ]
    },
    {
     "name": "stdout",
     "output_type": "stream",
     "text": [
      "Paul demonstrates innovation and takes initiative toward the team's success in several ways:\n",
      "\n",
      "1. He proposes engineering meetings for discussing data strategy and training on new technologies (Lisa Peploe, peer review).\n",
      "2. He initiates process improvements, such as multiple discussions on integration testing (Lisa Peploe, peer review).\n",
      "3. He creates platforms for sharing ideas and potential changes in the system to be more efficient, such as architecture hours (Gagan, peer review).\n",
      "4. He helps with AI initiatives like using LLM in Omega project to automate the audit process (Gagan, peer review).\n",
      "\n",
      "These examples show that Paul is proactive, innovative, and committed to team growth and success.\n",
      "\n",
      "SOURCES:\n",
      "\n",
      "* Lisa Peploe's peer review (data/feedback/lpeploe_20240618.txt)\n",
      "* Gagan's peer review (data/feedback/gsharma_20240611.txt)dict_keys(['question', 'history', 'answer', 'sources', 'source_documents'])\n"
     ]
    },
    {
     "name": "stderr",
     "output_type": "stream",
     "text": [
      "OllamaEmbeddings: 100%|███████████████████████████████████████████████████████████████████| 1/1 [00:01<00:00,  1.41s/it]\n"
     ]
    },
    {
     "name": "stdout",
     "output_type": "stream",
     "text": [
      "Rockstardict_keys(['question', 'history', 'answer', 'sources', 'source_documents'])\n",
      "\n",
      "\n",
      "The prompt is Paul is a software architect.  Giving preference to Team Lead feedback write a concise review and cite four or five examples to answer the question \"How does paul actively mentor others and provide actionable feedback to create growth and impact?\"\n",
      "\n",
      "\n"
     ]
    },
    {
     "name": "stderr",
     "output_type": "stream",
     "text": [
      "OllamaEmbeddings: 100%|███████████████████████████████████████████████████████████████████| 1/1 [00:01<00:00,  1.32s/it]\n"
     ]
    },
    {
     "name": "stdout",
     "output_type": "stream",
     "text": [
      "Paul actively mentors others and provides actionable feedback in several ways:\n",
      "\n",
      "1. **Proactive approach to championing change**: Paul proposes engineering meetings for discussing data strategy and training on new technologies, showing his dedication to personal and team growth (Source: Lisa Peploe's peer review).\n",
      "2. **Effective communication and relationship-building skills**: He connects with team members and stakeholders, contributing significantly to the train's effectiveness, and brings incredible topics to the Train Architecture Sync (Source: Lisa Peploe's peer review).\n",
      "3. **Initiative in creating process improvements**: Paul has multiple discussions on integration testing, which have been invaluable to the team (Source: Lisa Peploe's peer review).\n",
      "4. **Technical foresight and suggestions for improvement**: He provides inspiring ideas and suggestions to improve solutions, making him a go-to person for challenging status-quo situations (Source: Gagan's peer review).\n",
      "\n",
      "By demonstrating these behaviors, Paul exceeds expectations as a Software Architect and fosters team growth and positive outcomes.\n",
      "\n",
      "SOURCES:\n",
      "\n",
      "* Lisa Peploe's peer review (data/feedback/lpeploe_20240618.txt)\n",
      "* Gagan's peer review (data/feedback/gsharma_20240611.txt)dict_keys(['question', 'history', 'answer', 'sources', 'source_documents'])\n"
     ]
    },
    {
     "name": "stderr",
     "output_type": "stream",
     "text": [
      "OllamaEmbeddings: 100%|███████████████████████████████████████████████████████████████████| 1/1 [00:01<00:00,  1.05s/it]\n"
     ]
    },
    {
     "name": "stdout",
     "output_type": "stream",
     "text": [
      "The rating for Paul based on the reviews provided by his peers (Gagan, Lisa Peploe, and Brandon Strong) would be \"Rockstar\".\n",
      "\n",
      "Here's why:\n",
      "\n",
      "* Gagan praises Paul as an inspiring personality who is always impressed with his technical foresight. He also appreciates how Paul creates opportunities for team members to share ideas and potential changes in the system.\n",
      "* Lisa Peploe says that Paul is the definition of Antes to Succeed, Care Create, Connect, Deliver and Grow. She commends his proactive approach to championing change, his ability to connect with team members and stakeholders, and his effective communication and relationship-building skills.\n",
      "* Brandon Strong describes Paul as a great human and someone he relies on for advice. He praises Paul's constant learning, vast knowledge of technologies and design patterns, and his growth mindset. He also appreciates how Paul asks great questions that drive discussions and offers valuable advice.\n",
      "\n",
      "All these reviews suggest that Paul is an exceptional team member who consistently exceeds expectations, fosters team growth, and contributes significantly to the team's success. Therefore, a rating of \"Rockstar\" would be fitting for Paul based on his outstanding performance and behavior as described by his peers.dict_keys(['question', 'history', 'answer', 'sources', 'source_documents'])\n"
     ]
    }
   ],
   "source": [
    "for q in review_questions:\n",
    "    p = prompt_template.format(question=q)\n",
    "    print(f'\\n\\nThe prompt is {p}\\n\\n')\n",
    "    result = chain.invoke(p)\n",
    "    print(result.keys())\n",
    "    result = chain.invoke(rating_question)\n",
    "    print(result.keys())"
   ]
  },
  {
   "cell_type": "code",
   "execution_count": 18,
   "id": "a888d1ce-9b9b-4ac1-91df-d5cc315206d7",
   "metadata": {},
   "outputs": [
    {
     "name": "stderr",
     "output_type": "stream",
     "text": [
      "OllamaEmbeddings: 100%|███████████████████████████████████████████████████████████████████| 1/1 [00:01<00:00,  1.13s/it]\n"
     ]
    },
    {
     "name": "stdout",
     "output_type": "stream",
     "text": [
      "Based on the collected feedback and summaries, I would rate Paul's overall performance as \"Rockstar\".\n",
      "\n",
      "SOURCES:\n",
      "- data/ratings/exceeds_expectations.txt\n",
      "- data/feedback/lpeploe_20240618.txt\n",
      "- data/feedback/gsharma_20240611.txtdict_keys(['question', 'history', 'answer', 'sources', 'source_documents'])\n"
     ]
    }
   ],
   "source": [
    "result = chain.invoke(final_rating_question)\n",
    "print(result.keys())"
   ]
  },
  {
   "cell_type": "code",
   "execution_count": 19,
   "id": "697dff90-c3b0-4991-bba2-92171e282a35",
   "metadata": {},
   "outputs": [
    {
     "name": "stdout",
     "output_type": "stream",
     "text": [
      "chat_memory=InMemoryChatMessageHistory(messages=[HumanMessage(content='Please describe the role and responsibilities of a software architect, according to Rocket Mortgage.  Do not include any feedback or notes documents.'), AIMessage(content='The Software Architect at Rocket Mortgage acts as a technical thought leader who influences functional and non-functional requirements, contributes technical work items to the product roadmap, and oversees discussions with technical stakeholders. They are also responsible for elevating engineering team performance and have demonstrated their ability to engineer at a higher caliber.\\n\\n'), HumanMessage(content='Paul is a software architect.  Giving preference to Team Lead feedback write a concise review and cite four or five examples to answer the question \"How does paul deliver work in line with the expectations for his role?\"'), AIMessage(content=\"Paul delivers work in line with the expectations for his role by:\\n\\n* Proposing engineering meetings to discuss data strategy and train on new technologies, showcasing his dedication to personal and team growth (Lisa Peploe's feedback)\\n* Bringing innovative topics to Train Architecture Sync, such as machine learning, and creating process improvements through discussions on integration testing (Lisa Peploe's feedback)\\n* Acting as a technical thought leader with a deep understanding of necessary trade-offs in architectural design and integrations within his product area (Software Architect role description)\\n* Elevating engineering team performance and demonstrating the ability to engineer at a higher caliber (Software Architect role description)\\n* Providing actionable feedback and demonstrating strong alignment with ISMs, Antes to Succeed, and Company Guideposts, thereby significantly contributing to the team's success (Exceeds Expectations rating description)\\n\\nOverall, Paul consistently produces high-quality work that exceeds role expectations, actively seeks opportunities to contribute beyond the typical scope of work, and fosters team growth and positive outcomes.\\n\\n\"), HumanMessage(content='Based on how Paul performed please provide a rating \"Achieves Expectations\", \"Exceeds Expectations\", \"Rockstar\", or \"Needs Improvement\" for the review summary that was just written.'), AIMessage(content=\"Rockstar \\n\\nPaul consistently exceeds expectations with his technical expertise, proactive approach to championing change, and dedication to personal and team growth. He embodies the Antes to Succeed, Care Create, Connect, Deliver, and Grow, and has made significant contributions to the team's success through his effective communication, relationship-building skills, and initiative in creating process improvements.\"), HumanMessage(content='Paul is a software architect.  Giving preference to Team Lead feedback write a concise review and cite four or five examples to answer the question \"To what extent does paul achieve his set goals and how do these achievements contribute to the team’s and organization’s objective?\"'), AIMessage(content=\"Paul achieves his set goals to a great extent, which contributes significantly to the team's and organization's objectives. Here are four examples that demonstrate this:\\n\\n1. **Effective Communication and Relationship-Building**: Paul's ability to connect with team members and stakeholders is commendable (Lisa Peploe). He brings incredible topics to the Train Architecture Sync and creates an environment where others feel comfortable sharing their ideas.\\n\\n2. **Initiative in Creating Process Improvements**: Paul has been invaluable in multiple discussions on integration testing, showing his dedication to improving processes (Lisa Peploe).\\n\\n3. **Technical Foresight and Innovation**: Paul is always coming up with innovative machine learning solutions and AI initiatives, such as using LLM in Omega project to automate the audit process (Gagan). He also suggests improvements to their solutions.\\n\\n4. **Leadership and Mentorship**: Paul acts as a technical thought leader, influencing FRs and NFRs, contributing technical work items to the product roadmap, and overseeing deliberations with technical stakeholders (Software Architect role description).\\n\\nThese achievements demonstrate that Paul exceeds expectations for his role, consistently producing high-quality work that enhances the team's success. His behavior fosters team growth and positive outcomes by providing actionable feedback and demonstrating strong alignment with ISMs, Antes to Succeed, and Company Guideposts.\\n\\n\"), HumanMessage(content='Based on how Paul performed please provide a rating \"Achieves Expectations\", \"Exceeds Expectations\", \"Rockstar\", or \"Needs Improvement\" for the review summary that was just written.'), AIMessage(content='Rockstar'), HumanMessage(content='Paul is a software architect.  Giving preference to Team Lead feedback write a concise review and cite four or five examples to answer the question \"How does paul live the ISMs, demonstrate Antes to Succeed behaviors, and adhere to the expectations in the company Guideposts?\"'), AIMessage(content=\"Paul lives the ISMs, demonstrates Antes to Succeed behaviors, and adheres to the expectations in the company Guideposts by consistently producing high-quality work that exceeds role expectations. He actively seeks opportunities to contribute beyond the typical scope of work, enhancing the team's success.\\n\\nExamples include:\\n\\n* Championing change by proposing engineering meetings for discussing data strategy and training on new technologies (Lisa Peploe's feedback).\\n* Creating process improvements through multiple discussions on integration testing (Lisa Peploe's feedback).\\n* Providing a platform for team members to share ideas and potential changes in the system through architecture hours (Gagan's feedback).\\n* Helping with AI initiatives like using LLM in Omega project to automate the audit process (Gagan's feedback).\\n* Fostering team growth and positive outcomes by providing actionable feedback and demonstrating strong alignment with ISMs, Antes to Succeed, and Company Guideposts (Software Architect role description).\\n\\nThese examples demonstrate Paul's proactive approach to his work, his ability to connect with team members and stakeholders, and his commitment to personal and team growth.\\n\\n\"), HumanMessage(content='Based on how Paul performed please provide a rating \"Achieves Expectations\", \"Exceeds Expectations\", \"Rockstar\", or \"Needs Improvement\" for the review summary that was just written.'), AIMessage(content='Rockstar \\n\\nThe ratings \"Achieves Expectations\", \"Exceeds Expectations\", and \"Needs Improvement\" are insufficient to capture the exceptional performance of Paul as described in the reviews. The reviews portray him as an exceptional technologist, team player, mentor, and individual who consistently goes above and beyond expectations. His mastery of his craft, dedication to growth, ability to connect with others, and commitment to excellence make him a standout performer who embodies all the Antes to Succeed and Company Guideposts.'), HumanMessage(content='Paul is a software architect.  Giving preference to Team Lead feedback write a concise review and cite four or five examples to answer the question \"How does this paul demonstrate innovation and take initiative toward the team’s success?\"'), AIMessage(content=\"Paul demonstrates innovation and takes initiative toward the team's success in several ways:\\n\\n1. He proposes engineering meetings for discussing data strategy and training on new technologies (Lisa Peploe, peer review).\\n2. He initiates process improvements, such as multiple discussions on integration testing (Lisa Peploe, peer review).\\n3. He creates platforms for sharing ideas and potential changes in the system to be more efficient, such as architecture hours (Gagan, peer review).\\n4. He helps with AI initiatives like using LLM in Omega project to automate the audit process (Gagan, peer review).\\n\\nThese examples show that Paul is proactive, innovative, and committed to team growth and success.\\n\\n\"), HumanMessage(content='Based on how Paul performed please provide a rating \"Achieves Expectations\", \"Exceeds Expectations\", \"Rockstar\", or \"Needs Improvement\" for the review summary that was just written.'), AIMessage(content='Rockstar'), HumanMessage(content='Paul is a software architect.  Giving preference to Team Lead feedback write a concise review and cite four or five examples to answer the question \"How does paul actively mentor others and provide actionable feedback to create growth and impact?\"'), AIMessage(content='Paul actively mentors others and provides actionable feedback in several ways:\\n\\n1. **Proactive approach to championing change**: Paul proposes engineering meetings for discussing data strategy and training on new technologies, showing his dedication to personal and team growth ('), HumanMessage(content='Based on how Paul performed please provide a rating \"Achieves Expectations\", \"Exceeds Expectations\", \"Rockstar\", or \"Needs Improvement\" for the review summary that was just written.'), AIMessage(content='The rating for Paul based on the reviews provided by his peers (Gagan, Lisa Peploe, and Brandon Strong) would be \"Rockstar\".\\n\\nHere\\'s why:\\n\\n* Gagan praises Paul as an inspiring personality who is always impressed with his technical foresight. He also appreciates how Paul creates opportunities for team members to share ideas and potential changes in the system.\\n* Lisa Peploe says that Paul is the definition of Antes to Succeed, Care Create, Connect, Deliver and Grow. She commends his proactive approach to championing change, his ability to connect with team members and stakeholders, and his effective communication and relationship-building skills.\\n* Brandon Strong describes Paul as a great human and someone he relies on for advice. He praises Paul\\'s constant learning, vast knowledge of technologies and design patterns, and his growth mindset. He also appreciates how Paul asks great questions that drive discussions and offers valuable advice.\\n\\nAll these reviews suggest that Paul is an exceptional team member who consistently exceeds expectations, fosters team growth, and contributes significantly to the team\\'s success. Therefore, a rating of \"Rockstar\" would be fitting for Paul based on his outstanding performance and behavior as described by his peers.'), HumanMessage(content='Based on the collected feedback and suammaries, please provide and overall performance rating (\"Achieves Expectations\", \"Exceeds Expectations\", \"Rockstar\", or \"Needs Improvement\") for this review period.'), AIMessage(content='Based on the collected feedback and summaries, I would rate Paul\\'s overall performance as \"Rockstar\".\\n\\n')]) output_key='answer'\n"
     ]
    }
   ],
   "source": [
    " print(memory)"
   ]
  },
  {
   "cell_type": "code",
   "execution_count": 26,
   "id": "896c39a8-8a95-42e2-8202-61fe1c39dffc",
   "metadata": {},
   "outputs": [
    {
     "name": "stderr",
     "output_type": "stream",
     "text": [
      "OllamaEmbeddings: 100%|███████████████████████████████████████████████████████████████████| 1/1 [00:01<00:00,  1.35s/it]\n"
     ]
    },
    {
     "name": "stdout",
     "output_type": "stream",
     "text": [
      "Here is a personal brand statement for Paul:\n",
      "\n",
      "\"As a driven and curious engineer, I excel at driving technical growth and innovation through strategic thinking, effective communication, and collaborative problem-solving. With a passion for learning and sharing knowledge, I empower teams to succeed by championing change, proposing process improvements, and delivering high-quality solutions that meet the needs of stakeholders. By combining technical expertise with strong interpersonal skills, I build trust and foster a culture of care, connection, and growth within my team and organization.\"\n",
      "\n",
      "This statement incorporates the five key elements:\n",
      "\n",
      "* Purpose: driving technical growth and innovation\n",
      "* What sets you apart: strategic thinking, effective communication, and collaborative problem-solving\n",
      "* Promise to clients: delivering high-quality solutions that meet their needs\n",
      "* Personality: driven, curious, passionate about learning and sharing knowledge\n",
      "* Identity: championing change, proposing process improvements, building trust and fostering a culture of care, connection, and growth.\n",
      "\n",
      "SOURCES:\n",
      "\n",
      "* data/feedback/jlindley_20240608.txt\n",
      "* data/feedback/mneward_20240614.txt\n",
      "* data/feedback/ctek_20240610.txt\n",
      "* data/feedback/lpeploe_20240618.txt"
     ]
    },
    {
     "data": {
      "text/plain": [
       "{'question': 'Can you write a personal brand statements for Paul using all available information? The statement should be one to three sentences highlighting my skills, experience, and passion for my work. The five key elements should be my purpose, how do I set myself apart from others in this field, the promise that I make to my clients, how I use my personality, and how do I express my identity to others.',\n",
       " 'history': 'Human: Please describe the role and responsibilities of a software architect, according to Rocket Mortgage.  Do not include any feedback or notes documents.\\nAI: The Software Architect at Rocket Mortgage acts as a technical thought leader who influences functional and non-functional requirements, contributes technical work items to the product roadmap, and oversees discussions with technical stakeholders. They are also responsible for elevating engineering team performance and have demonstrated their ability to engineer at a higher caliber.\\n\\n\\nHuman: Paul is a software architect.  Giving preference to Team Lead feedback write a concise review and cite four or five examples to answer the question \"How does paul deliver work in line with the expectations for his role?\"\\nAI: Paul delivers work in line with the expectations for his role by:\\n\\n* Proposing engineering meetings to discuss data strategy and train on new technologies, showcasing his dedication to personal and team growth (Lisa Peploe\\'s feedback)\\n* Bringing innovative topics to Train Architecture Sync, such as machine learning, and creating process improvements through discussions on integration testing (Lisa Peploe\\'s feedback)\\n* Acting as a technical thought leader with a deep understanding of necessary trade-offs in architectural design and integrations within his product area (Software Architect role description)\\n* Elevating engineering team performance and demonstrating the ability to engineer at a higher caliber (Software Architect role description)\\n* Providing actionable feedback and demonstrating strong alignment with ISMs, Antes to Succeed, and Company Guideposts, thereby significantly contributing to the team\\'s success (Exceeds Expectations rating description)\\n\\nOverall, Paul consistently produces high-quality work that exceeds role expectations, actively seeks opportunities to contribute beyond the typical scope of work, and fosters team growth and positive outcomes.\\n\\n\\nHuman: Based on how Paul performed please provide a rating \"Achieves Expectations\", \"Exceeds Expectations\", \"Rockstar\", or \"Needs Improvement\" for the review summary that was just written.\\nAI: Rockstar \\n\\nPaul consistently exceeds expectations with his technical expertise, proactive approach to championing change, and dedication to personal and team growth. He embodies the Antes to Succeed, Care Create, Connect, Deliver, and Grow, and has made significant contributions to the team\\'s success through his effective communication, relationship-building skills, and initiative in creating process improvements.\\nHuman: Paul is a software architect.  Giving preference to Team Lead feedback write a concise review and cite four or five examples to answer the question \"To what extent does paul achieve his set goals and how do these achievements contribute to the team’s and organization’s objective?\"\\nAI: Paul achieves his set goals to a great extent, which contributes significantly to the team\\'s and organization\\'s objectives. Here are four examples that demonstrate this:\\n\\n1. **Effective Communication and Relationship-Building**: Paul\\'s ability to connect with team members and stakeholders is commendable (Lisa Peploe). He brings incredible topics to the Train Architecture Sync and creates an environment where others feel comfortable sharing their ideas.\\n\\n2. **Initiative in Creating Process Improvements**: Paul has been invaluable in multiple discussions on integration testing, showing his dedication to improving processes (Lisa Peploe).\\n\\n3. **Technical Foresight and Innovation**: Paul is always coming up with innovative machine learning solutions and AI initiatives, such as using LLM in Omega project to automate the audit process (Gagan). He also suggests improvements to their solutions.\\n\\n4. **Leadership and Mentorship**: Paul acts as a technical thought leader, influencing FRs and NFRs, contributing technical work items to the product roadmap, and overseeing deliberations with technical stakeholders (Software Architect role description).\\n\\nThese achievements demonstrate that Paul exceeds expectations for his role, consistently producing high-quality work that enhances the team\\'s success. His behavior fosters team growth and positive outcomes by providing actionable feedback and demonstrating strong alignment with ISMs, Antes to Succeed, and Company Guideposts.\\n\\n\\nHuman: Based on how Paul performed please provide a rating \"Achieves Expectations\", \"Exceeds Expectations\", \"Rockstar\", or \"Needs Improvement\" for the review summary that was just written.\\nAI: Rockstar\\nHuman: Paul is a software architect.  Giving preference to Team Lead feedback write a concise review and cite four or five examples to answer the question \"How does paul live the ISMs, demonstrate Antes to Succeed behaviors, and adhere to the expectations in the company Guideposts?\"\\nAI: Paul lives the ISMs, demonstrates Antes to Succeed behaviors, and adheres to the expectations in the company Guideposts by consistently producing high-quality work that exceeds role expectations. He actively seeks opportunities to contribute beyond the typical scope of work, enhancing the team\\'s success.\\n\\nExamples include:\\n\\n* Championing change by proposing engineering meetings for discussing data strategy and training on new technologies (Lisa Peploe\\'s feedback).\\n* Creating process improvements through multiple discussions on integration testing (Lisa Peploe\\'s feedback).\\n* Providing a platform for team members to share ideas and potential changes in the system through architecture hours (Gagan\\'s feedback).\\n* Helping with AI initiatives like using LLM in Omega project to automate the audit process (Gagan\\'s feedback).\\n* Fostering team growth and positive outcomes by providing actionable feedback and demonstrating strong alignment with ISMs, Antes to Succeed, and Company Guideposts (Software Architect role description).\\n\\nThese examples demonstrate Paul\\'s proactive approach to his work, his ability to connect with team members and stakeholders, and his commitment to personal and team growth.\\n\\n\\nHuman: Based on how Paul performed please provide a rating \"Achieves Expectations\", \"Exceeds Expectations\", \"Rockstar\", or \"Needs Improvement\" for the review summary that was just written.\\nAI: Rockstar \\n\\nThe ratings \"Achieves Expectations\", \"Exceeds Expectations\", and \"Needs Improvement\" are insufficient to capture the exceptional performance of Paul as described in the reviews. The reviews portray him as an exceptional technologist, team player, mentor, and individual who consistently goes above and beyond expectations. His mastery of his craft, dedication to growth, ability to connect with others, and commitment to excellence make him a standout performer who embodies all the Antes to Succeed and Company Guideposts.\\nHuman: Paul is a software architect.  Giving preference to Team Lead feedback write a concise review and cite four or five examples to answer the question \"How does this paul demonstrate innovation and take initiative toward the team’s success?\"\\nAI: Paul demonstrates innovation and takes initiative toward the team\\'s success in several ways:\\n\\n1. He proposes engineering meetings for discussing data strategy and training on new technologies (Lisa Peploe, peer review).\\n2. He initiates process improvements, such as multiple discussions on integration testing (Lisa Peploe, peer review).\\n3. He creates platforms for sharing ideas and potential changes in the system to be more efficient, such as architecture hours (Gagan, peer review).\\n4. He helps with AI initiatives like using LLM in Omega project to automate the audit process (Gagan, peer review).\\n\\nThese examples show that Paul is proactive, innovative, and committed to team growth and success.\\n\\n\\nHuman: Based on how Paul performed please provide a rating \"Achieves Expectations\", \"Exceeds Expectations\", \"Rockstar\", or \"Needs Improvement\" for the review summary that was just written.\\nAI: Rockstar\\nHuman: Paul is a software architect.  Giving preference to Team Lead feedback write a concise review and cite four or five examples to answer the question \"How does paul actively mentor others and provide actionable feedback to create growth and impact?\"\\nAI: Paul actively mentors others and provides actionable feedback in several ways:\\n\\n1. **Proactive approach to championing change**: Paul proposes engineering meetings for discussing data strategy and training on new technologies, showing his dedication to personal and team growth (\\nHuman: Based on how Paul performed please provide a rating \"Achieves Expectations\", \"Exceeds Expectations\", \"Rockstar\", or \"Needs Improvement\" for the review summary that was just written.\\nAI: The rating for Paul based on the reviews provided by his peers (Gagan, Lisa Peploe, and Brandon Strong) would be \"Rockstar\".\\n\\nHere\\'s why:\\n\\n* Gagan praises Paul as an inspiring personality who is always impressed with his technical foresight. He also appreciates how Paul creates opportunities for team members to share ideas and potential changes in the system.\\n* Lisa Peploe says that Paul is the definition of Antes to Succeed, Care Create, Connect, Deliver and Grow. She commends his proactive approach to championing change, his ability to connect with team members and stakeholders, and his effective communication and relationship-building skills.\\n* Brandon Strong describes Paul as a great human and someone he relies on for advice. He praises Paul\\'s constant learning, vast knowledge of technologies and design patterns, and his growth mindset. He also appreciates how Paul asks great questions that drive discussions and offers valuable advice.\\n\\nAll these reviews suggest that Paul is an exceptional team member who consistently exceeds expectations, fosters team growth, and contributes significantly to the team\\'s success. Therefore, a rating of \"Rockstar\" would be fitting for Paul based on his outstanding performance and behavior as described by his peers.\\nHuman: Based on the collected feedback and suammaries, please provide and overall performance rating (\"Achieves Expectations\", \"Exceeds Expectations\", \"Rockstar\", or \"Needs Improvement\") for this review period.\\nAI: Based on the collected feedback and summaries, I would rate Paul\\'s overall performance as \"Rockstar\".\\n\\n\\nHuman: Can you write a personal brand statement for Paul using all available information?\\nAI: Here is a personal brand statement for Paul:\\n\\n\"I am a curious and driven technologist who is passionate about creating value and driving growth through innovative solutions. I believe in prioritizing purpose over profit and pursuing great ideas with relentless passion. As a collaborator, I strive to understand the \\'why\\' behind every challenge and ask questions that spark meaningful discussions. With empathy and care, I connect with team members and clients alike, always seeking opportunities to amaze and deliver exceptional experiences. My personal mission is to champion change, foster growth, and make a lasting impact through my work.\"\\n\\nThis statement draws from the various themes and traits mentioned in the provided content, including Paul\\'s:\\n\\n* Passion for learning and growth (mentioned by Lisa Peploe)\\n* Proactive approach to driving change and innovation\\n* Ability to connect with team members and clients through effective communication and relationship-building skills (highlighted by both Lisa Peploe and Brandon Strong)\\n* Pursuit of purpose over profit and emphasis on creating value (inspired by the \"isms\" content)\\n* Relentless passion for delivering exceptional experiences and making a lasting impact\\n\\nFeel free to adjust or refine this statement as needed!\\nHuman: Can you write a personal brand statement for Paul using all available information? The statement should be one to three sentences highlighting my skills, experience, and passion for my work.\\nAI: Here are three options for a personal brand statement for Paul:\\n\\n**Option 1**\\nAs a technologist and innovator, I thrive in environments where creativity and growth are encouraged. With my passion for learning and drive to deliver exceptional results, I empower teams to achieve greatness through collaboration, effective communication, and strategic problem-solving.\\n\\n**Option 2**\\nWith a contagious enthusiasm for innovation and a knack for connecting with others, I excel at driving change and championing new ideas. My expertise in technology and design patterns, combined with my dedication to personal growth, enables me to deliver impactful solutions that propel businesses forward.\\n\\n**Option 3**\\nAs a master technologist and creative problem-solver, I excel at the intersection of technology and business. With a collaborative approach and passion for learning, I inspire teams to think boldly, ask insightful questions, and push boundaries to achieve remarkable results.\\n\\n\\nHuman: Can you write a personal brand statement for Paul using all available information? The statement should be one to three sentences highlighting my skills, experience, and passion for my work. The five key elements should be my purpose, how do I set myself apart from others in this field, the promise that I make to my clients, how I use my personality, and how do I express my identity to others.\\nAI: Here is a personal brand statement for Paul:\\n\\n\"As a driven technologist with a passion for growth and connection, I empower teams and individuals through proactive leadership, strategic vision, and effective communication. By championing change, driving process improvements, and fostering a culture of learning and collaboration, I help organizations succeed at scale. With a focus on innovation, customer-centricity, and continuous improvement, I promise to deliver high-impact solutions that drive business outcomes and inspire others to grow.\"\\n\\nThis statement highlights Paul\\'s:\\n\\n* Purpose: Empowering teams and individuals through proactive leadership and strategic vision\\n* Uniqueness: Championing change, driving process improvements, and fostering a culture of learning and collaboration\\n* Promise: Delivering high-impact solutions that drive business outcomes and inspire others to grow\\n* Personality: Driven, passionate, and effective communicator\\n* Identity: A technologist with a focus on innovation, customer-centricity, and continuous improvement.\\nHuman: Can you write three to five personal brand statements for Paul using all available information? The statement should be one to three sentences highlighting my skills, experience, and passion for my work. The five key elements should be my purpose, how do I set myself apart from others in this field, the promise that I make to my clients, how I use my personality, and how do I express my identity to others.\\nAI: Here are three to five personal brand statements for Paul:\\n\\n1. \"As a passionate technologist, I empower teams to solve complex problems by driving innovation and collaboration. With my expertise in Dynatrace and system intelligence, I help organizations scale and succeed.\"\\n\\n2. \"With a curious and growth-oriented mindset, I bridge the gap between technical expertise and business needs. My passion for learning and sharing knowledge enables me to deliver tailored solutions that exceed expectations.\"\\n\\n3. \"As a voice of stability and problem-solving, I bring clarity and direction to complex issues. By combining technical acumen with empathy and communication skills, I foster strong relationships and drive results-driven outcomes.\"\\n\\n4. \"With a relentless pursuit of excellence, I push the boundaries of what\\'s possible in technology and innovation. My commitment to care and connection enables me to build trust and deliver value to my clients and teams alike.\"\\n\\n5. \"As a catalyst for growth and improvement, I ignite collaboration and creativity within teams. By sharing knowledge, resources, and expertise, I help organizations unlock their full potential and achieve success at scale.\"\\n\\nThese statements highlight Paul\\'s skills, experience, and passion for his work, while also showcasing his unique value proposition, personality, and identity as a technologist and problem-solver.\\n\\n\\nHuman: Can you expand the last barnd statement, number 5?\\nAI: I don\\'t know what statement number 5 is or how to expand on it.\\n\\n\\nHuman: using the statement \"As a catalyst for growth and improvement, I ignite collaboration and creativity within teams. By sharing knowledge, resources, and expertise, I help organizations unlock their full potential and achieve success at scale.\" Can you expand this as a personal brand statement for paul?\\nAI: Here is a potential personal brand statement for Paul:\\n\\n\"As a transformative technology leader, I empower teams and organizations to unlock their full potential through collaboration, creativity, and innovation. With a passion for growth and improvement, I ignite meaningful connections, drive strategic change, and deliver exceptional results at scale.\\n\\nWith expertise in software architecture, technical thought leadership, and team elevation, I bridge the gap between people, process, and technology to achieve remarkable outcomes. My dedication to personal and professional growth is contagious, inspiring others to strive for excellence and push beyond their limits.\\n\\nThrough my work, I aim to create a lasting impact on individuals, teams, and organizations, helping them navigate complex challenges, seize new opportunities, and thrive in an ever-changing world. Let\\'s collaborate, innovate, and succeed together!\"\\n\\nThis statement incorporates elements from the peer reviews and other sources, highlighting Paul\\'s strengths as a leader, collaborator, and innovator, while also emphasizing his commitment to growth, improvement, and making a positive impact on others.',\n",
       " 'answer': 'Here is a personal brand statement for Paul:\\n\\n\"As a driven and curious engineer, I excel at driving technical growth and innovation through strategic thinking, effective communication, and collaborative problem-solving. With a passion for learning and sharing knowledge, I empower teams to succeed by championing change, proposing process improvements, and delivering high-quality solutions that meet the needs of stakeholders. By combining technical expertise with strong interpersonal skills, I build trust and foster a culture of care, connection, and growth within my team and organization.\"\\n\\nThis statement incorporates the five key elements:\\n\\n* Purpose: driving technical growth and innovation\\n* What sets you apart: strategic thinking, effective communication, and collaborative problem-solving\\n* Promise to clients: delivering high-quality solutions that meet their needs\\n* Personality: driven, curious, passionate about learning and sharing knowledge\\n* Identity: championing change, proposing process improvements, building trust and fostering a culture of care, connection, and growth.\\n\\n',\n",
       " 'sources': '',\n",
       " 'source_documents': [Document(metadata={'source': 'data/feedback/jlindley_20240608.txt'}, page_content='At the train level, Paul organized the Dynatrace Coaching Sessions meeting series with both Rocket’s System Intelligence team (John Floreno) and a Dynatrace SME. Paul recognized the growing importance and untapped potential of Dynatrace and established this to grow the Dynatrace skills of engineers and leaders from across TP&S. It also reinforces the importance of Dynatrace given my push within Ghost Coders for the Omega SLO dashboard and to have Dynatrace connected to PagerDuty for Specter and Omega. Finally, Paul’s curiosity and desire to learn (and his desire for other to learn as well) is easy to see. He asked to be included in the Omega Shadowing effort I scheduled and attend two Auditor session and one for the Resolution Analyst role. He has structured the Train Architecture Sync meeting to level up the train on different technical topics being worked on within the Train.'),\n",
       "  Document(metadata={'source': 'data/feedback/mneward_20240614.txt'}, page_content='This is peer review from Michael said Paul is a voice of stability, epitomizing the need to figure out the root cause of a problem, and figuring out the ideal solution to a problem, especially if he had zero interaction with the issue beforehand. This is constant. Mere days ago as of this writing, when introduced to a widespread logging issue within a solution, he understood the problem and set up some initial steps to pursue, as well as a general shift towards Dynatrace Dashboards. Another example includes the very long discussions to implement OCR data into multiple auditing apps, that ended with embracing the design Paul had originally designed with another engineer. He follows the Care and Connect Antes to a fault.'),\n",
       "  Document(metadata={'source': 'data/feedback/ctek_20240610.txt'}, page_content='level. This helps set us up for success at scale, and encourages us to think at a broader level. I think these suggestions will continue to be essential for Rocket Review, which will only continue to grow and utilize more data.'),\n",
       "  Document(metadata={'source': 'data/feedback/lpeploe_20240618.txt'}, page_content=\"This is peer review from Lisa Peploe said Paul is the definition of Antes to Succeed, Care Create, Connect, Deliver and Grow. His proactive approach to championing change, such as proposing engineering meetings for discussing data strategy and training on new technologies, shows your dedication to personal and team growth. His ability to connect with team members and stakeholders is commendable. His effective communication and relationship-building skills contribute significantly to our train's effectiveness. He always brings incredible topics to the Train Architecture Sync such as innovative machine learning and more. His initiative in creating process improvements has been invaluable with multiple discussions on integration testing. It has been a joy working with Paul and I look forward to all I will learn from him in the future.\")]}"
      ]
     },
     "execution_count": 26,
     "metadata": {},
     "output_type": "execute_result"
    }
   ],
   "source": [
    "chain.invoke('Can you write a personal brand statements for Paul using all available information? The statement should be one to three sentences highlighting my skills, experience, and passion for my work. The five key elements should be my purpose, how do I set myself apart from others in this field, the promise that I make to my clients, how I use my personality, and how do I express my identity to others.')"
   ]
  },
  {
   "cell_type": "code",
   "execution_count": 25,
   "id": "af117615-3092-4f92-b429-363a6191ecae",
   "metadata": {},
   "outputs": [
    {
     "name": "stderr",
     "output_type": "stream",
     "text": [
      "OllamaEmbeddings: 100%|███████████████████████████████████████████████████████████████████| 1/1 [00:01<00:00,  1.42s/it]\n"
     ]
    },
    {
     "name": "stdout",
     "output_type": "stream",
     "text": [
      "Here is a potential personal brand statement for Paul:\n",
      "\n",
      "\"As a transformative technology leader, I empower teams and organizations to unlock their full potential through collaboration, creativity, and innovation. With a passion for growth and improvement, I ignite meaningful connections, drive strategic change, and deliver exceptional results at scale.\n",
      "\n",
      "With expertise in software architecture, technical thought leadership, and team elevation, I bridge the gap between people, process, and technology to achieve remarkable outcomes. My dedication to personal and professional growth is contagious, inspiring others to strive for excellence and push beyond their limits.\n",
      "\n",
      "Through my work, I aim to create a lasting impact on individuals, teams, and organizations, helping them navigate complex challenges, seize new opportunities, and thrive in an ever-changing world. Let's collaborate, innovate, and succeed together!\"\n",
      "\n",
      "This statement incorporates elements from the peer reviews and other sources, highlighting Paul's strengths as a leader, collaborator, and innovator, while also emphasizing his commitment to growth, improvement, and making a positive impact on others."
     ]
    },
    {
     "data": {
      "text/plain": [
       "{'question': 'using the statement \"As a catalyst for growth and improvement, I ignite collaboration and creativity within teams. By sharing knowledge, resources, and expertise, I help organizations unlock their full potential and achieve success at scale.\" Can you expand this as a personal brand statement for paul?',\n",
       " 'history': 'Human: Please describe the role and responsibilities of a software architect, according to Rocket Mortgage.  Do not include any feedback or notes documents.\\nAI: The Software Architect at Rocket Mortgage acts as a technical thought leader who influences functional and non-functional requirements, contributes technical work items to the product roadmap, and oversees discussions with technical stakeholders. They are also responsible for elevating engineering team performance and have demonstrated their ability to engineer at a higher caliber.\\n\\n\\nHuman: Paul is a software architect.  Giving preference to Team Lead feedback write a concise review and cite four or five examples to answer the question \"How does paul deliver work in line with the expectations for his role?\"\\nAI: Paul delivers work in line with the expectations for his role by:\\n\\n* Proposing engineering meetings to discuss data strategy and train on new technologies, showcasing his dedication to personal and team growth (Lisa Peploe\\'s feedback)\\n* Bringing innovative topics to Train Architecture Sync, such as machine learning, and creating process improvements through discussions on integration testing (Lisa Peploe\\'s feedback)\\n* Acting as a technical thought leader with a deep understanding of necessary trade-offs in architectural design and integrations within his product area (Software Architect role description)\\n* Elevating engineering team performance and demonstrating the ability to engineer at a higher caliber (Software Architect role description)\\n* Providing actionable feedback and demonstrating strong alignment with ISMs, Antes to Succeed, and Company Guideposts, thereby significantly contributing to the team\\'s success (Exceeds Expectations rating description)\\n\\nOverall, Paul consistently produces high-quality work that exceeds role expectations, actively seeks opportunities to contribute beyond the typical scope of work, and fosters team growth and positive outcomes.\\n\\n\\nHuman: Based on how Paul performed please provide a rating \"Achieves Expectations\", \"Exceeds Expectations\", \"Rockstar\", or \"Needs Improvement\" for the review summary that was just written.\\nAI: Rockstar \\n\\nPaul consistently exceeds expectations with his technical expertise, proactive approach to championing change, and dedication to personal and team growth. He embodies the Antes to Succeed, Care Create, Connect, Deliver, and Grow, and has made significant contributions to the team\\'s success through his effective communication, relationship-building skills, and initiative in creating process improvements.\\nHuman: Paul is a software architect.  Giving preference to Team Lead feedback write a concise review and cite four or five examples to answer the question \"To what extent does paul achieve his set goals and how do these achievements contribute to the team’s and organization’s objective?\"\\nAI: Paul achieves his set goals to a great extent, which contributes significantly to the team\\'s and organization\\'s objectives. Here are four examples that demonstrate this:\\n\\n1. **Effective Communication and Relationship-Building**: Paul\\'s ability to connect with team members and stakeholders is commendable (Lisa Peploe). He brings incredible topics to the Train Architecture Sync and creates an environment where others feel comfortable sharing their ideas.\\n\\n2. **Initiative in Creating Process Improvements**: Paul has been invaluable in multiple discussions on integration testing, showing his dedication to improving processes (Lisa Peploe).\\n\\n3. **Technical Foresight and Innovation**: Paul is always coming up with innovative machine learning solutions and AI initiatives, such as using LLM in Omega project to automate the audit process (Gagan). He also suggests improvements to their solutions.\\n\\n4. **Leadership and Mentorship**: Paul acts as a technical thought leader, influencing FRs and NFRs, contributing technical work items to the product roadmap, and overseeing deliberations with technical stakeholders (Software Architect role description).\\n\\nThese achievements demonstrate that Paul exceeds expectations for his role, consistently producing high-quality work that enhances the team\\'s success. His behavior fosters team growth and positive outcomes by providing actionable feedback and demonstrating strong alignment with ISMs, Antes to Succeed, and Company Guideposts.\\n\\n\\nHuman: Based on how Paul performed please provide a rating \"Achieves Expectations\", \"Exceeds Expectations\", \"Rockstar\", or \"Needs Improvement\" for the review summary that was just written.\\nAI: Rockstar\\nHuman: Paul is a software architect.  Giving preference to Team Lead feedback write a concise review and cite four or five examples to answer the question \"How does paul live the ISMs, demonstrate Antes to Succeed behaviors, and adhere to the expectations in the company Guideposts?\"\\nAI: Paul lives the ISMs, demonstrates Antes to Succeed behaviors, and adheres to the expectations in the company Guideposts by consistently producing high-quality work that exceeds role expectations. He actively seeks opportunities to contribute beyond the typical scope of work, enhancing the team\\'s success.\\n\\nExamples include:\\n\\n* Championing change by proposing engineering meetings for discussing data strategy and training on new technologies (Lisa Peploe\\'s feedback).\\n* Creating process improvements through multiple discussions on integration testing (Lisa Peploe\\'s feedback).\\n* Providing a platform for team members to share ideas and potential changes in the system through architecture hours (Gagan\\'s feedback).\\n* Helping with AI initiatives like using LLM in Omega project to automate the audit process (Gagan\\'s feedback).\\n* Fostering team growth and positive outcomes by providing actionable feedback and demonstrating strong alignment with ISMs, Antes to Succeed, and Company Guideposts (Software Architect role description).\\n\\nThese examples demonstrate Paul\\'s proactive approach to his work, his ability to connect with team members and stakeholders, and his commitment to personal and team growth.\\n\\n\\nHuman: Based on how Paul performed please provide a rating \"Achieves Expectations\", \"Exceeds Expectations\", \"Rockstar\", or \"Needs Improvement\" for the review summary that was just written.\\nAI: Rockstar \\n\\nThe ratings \"Achieves Expectations\", \"Exceeds Expectations\", and \"Needs Improvement\" are insufficient to capture the exceptional performance of Paul as described in the reviews. The reviews portray him as an exceptional technologist, team player, mentor, and individual who consistently goes above and beyond expectations. His mastery of his craft, dedication to growth, ability to connect with others, and commitment to excellence make him a standout performer who embodies all the Antes to Succeed and Company Guideposts.\\nHuman: Paul is a software architect.  Giving preference to Team Lead feedback write a concise review and cite four or five examples to answer the question \"How does this paul demonstrate innovation and take initiative toward the team’s success?\"\\nAI: Paul demonstrates innovation and takes initiative toward the team\\'s success in several ways:\\n\\n1. He proposes engineering meetings for discussing data strategy and training on new technologies (Lisa Peploe, peer review).\\n2. He initiates process improvements, such as multiple discussions on integration testing (Lisa Peploe, peer review).\\n3. He creates platforms for sharing ideas and potential changes in the system to be more efficient, such as architecture hours (Gagan, peer review).\\n4. He helps with AI initiatives like using LLM in Omega project to automate the audit process (Gagan, peer review).\\n\\nThese examples show that Paul is proactive, innovative, and committed to team growth and success.\\n\\n\\nHuman: Based on how Paul performed please provide a rating \"Achieves Expectations\", \"Exceeds Expectations\", \"Rockstar\", or \"Needs Improvement\" for the review summary that was just written.\\nAI: Rockstar\\nHuman: Paul is a software architect.  Giving preference to Team Lead feedback write a concise review and cite four or five examples to answer the question \"How does paul actively mentor others and provide actionable feedback to create growth and impact?\"\\nAI: Paul actively mentors others and provides actionable feedback in several ways:\\n\\n1. **Proactive approach to championing change**: Paul proposes engineering meetings for discussing data strategy and training on new technologies, showing his dedication to personal and team growth (\\nHuman: Based on how Paul performed please provide a rating \"Achieves Expectations\", \"Exceeds Expectations\", \"Rockstar\", or \"Needs Improvement\" for the review summary that was just written.\\nAI: The rating for Paul based on the reviews provided by his peers (Gagan, Lisa Peploe, and Brandon Strong) would be \"Rockstar\".\\n\\nHere\\'s why:\\n\\n* Gagan praises Paul as an inspiring personality who is always impressed with his technical foresight. He also appreciates how Paul creates opportunities for team members to share ideas and potential changes in the system.\\n* Lisa Peploe says that Paul is the definition of Antes to Succeed, Care Create, Connect, Deliver and Grow. She commends his proactive approach to championing change, his ability to connect with team members and stakeholders, and his effective communication and relationship-building skills.\\n* Brandon Strong describes Paul as a great human and someone he relies on for advice. He praises Paul\\'s constant learning, vast knowledge of technologies and design patterns, and his growth mindset. He also appreciates how Paul asks great questions that drive discussions and offers valuable advice.\\n\\nAll these reviews suggest that Paul is an exceptional team member who consistently exceeds expectations, fosters team growth, and contributes significantly to the team\\'s success. Therefore, a rating of \"Rockstar\" would be fitting for Paul based on his outstanding performance and behavior as described by his peers.\\nHuman: Based on the collected feedback and suammaries, please provide and overall performance rating (\"Achieves Expectations\", \"Exceeds Expectations\", \"Rockstar\", or \"Needs Improvement\") for this review period.\\nAI: Based on the collected feedback and summaries, I would rate Paul\\'s overall performance as \"Rockstar\".\\n\\n\\nHuman: Can you write a personal brand statement for Paul using all available information?\\nAI: Here is a personal brand statement for Paul:\\n\\n\"I am a curious and driven technologist who is passionate about creating value and driving growth through innovative solutions. I believe in prioritizing purpose over profit and pursuing great ideas with relentless passion. As a collaborator, I strive to understand the \\'why\\' behind every challenge and ask questions that spark meaningful discussions. With empathy and care, I connect with team members and clients alike, always seeking opportunities to amaze and deliver exceptional experiences. My personal mission is to champion change, foster growth, and make a lasting impact through my work.\"\\n\\nThis statement draws from the various themes and traits mentioned in the provided content, including Paul\\'s:\\n\\n* Passion for learning and growth (mentioned by Lisa Peploe)\\n* Proactive approach to driving change and innovation\\n* Ability to connect with team members and clients through effective communication and relationship-building skills (highlighted by both Lisa Peploe and Brandon Strong)\\n* Pursuit of purpose over profit and emphasis on creating value (inspired by the \"isms\" content)\\n* Relentless passion for delivering exceptional experiences and making a lasting impact\\n\\nFeel free to adjust or refine this statement as needed!\\nHuman: Can you write a personal brand statement for Paul using all available information? The statement should be one to three sentences highlighting my skills, experience, and passion for my work.\\nAI: Here are three options for a personal brand statement for Paul:\\n\\n**Option 1**\\nAs a technologist and innovator, I thrive in environments where creativity and growth are encouraged. With my passion for learning and drive to deliver exceptional results, I empower teams to achieve greatness through collaboration, effective communication, and strategic problem-solving.\\n\\n**Option 2**\\nWith a contagious enthusiasm for innovation and a knack for connecting with others, I excel at driving change and championing new ideas. My expertise in technology and design patterns, combined with my dedication to personal growth, enables me to deliver impactful solutions that propel businesses forward.\\n\\n**Option 3**\\nAs a master technologist and creative problem-solver, I excel at the intersection of technology and business. With a collaborative approach and passion for learning, I inspire teams to think boldly, ask insightful questions, and push boundaries to achieve remarkable results.\\n\\n\\nHuman: Can you write a personal brand statement for Paul using all available information? The statement should be one to three sentences highlighting my skills, experience, and passion for my work. The five key elements should be my purpose, how do I set myself apart from others in this field, the promise that I make to my clients, how I use my personality, and how do I express my identity to others.\\nAI: Here is a personal brand statement for Paul:\\n\\n\"As a driven technologist with a passion for growth and connection, I empower teams and individuals through proactive leadership, strategic vision, and effective communication. By championing change, driving process improvements, and fostering a culture of learning and collaboration, I help organizations succeed at scale. With a focus on innovation, customer-centricity, and continuous improvement, I promise to deliver high-impact solutions that drive business outcomes and inspire others to grow.\"\\n\\nThis statement highlights Paul\\'s:\\n\\n* Purpose: Empowering teams and individuals through proactive leadership and strategic vision\\n* Uniqueness: Championing change, driving process improvements, and fostering a culture of learning and collaboration\\n* Promise: Delivering high-impact solutions that drive business outcomes and inspire others to grow\\n* Personality: Driven, passionate, and effective communicator\\n* Identity: A technologist with a focus on innovation, customer-centricity, and continuous improvement.\\nHuman: Can you write three to five personal brand statements for Paul using all available information? The statement should be one to three sentences highlighting my skills, experience, and passion for my work. The five key elements should be my purpose, how do I set myself apart from others in this field, the promise that I make to my clients, how I use my personality, and how do I express my identity to others.\\nAI: Here are three to five personal brand statements for Paul:\\n\\n1. \"As a passionate technologist, I empower teams to solve complex problems by driving innovation and collaboration. With my expertise in Dynatrace and system intelligence, I help organizations scale and succeed.\"\\n\\n2. \"With a curious and growth-oriented mindset, I bridge the gap between technical expertise and business needs. My passion for learning and sharing knowledge enables me to deliver tailored solutions that exceed expectations.\"\\n\\n3. \"As a voice of stability and problem-solving, I bring clarity and direction to complex issues. By combining technical acumen with empathy and communication skills, I foster strong relationships and drive results-driven outcomes.\"\\n\\n4. \"With a relentless pursuit of excellence, I push the boundaries of what\\'s possible in technology and innovation. My commitment to care and connection enables me to build trust and deliver value to my clients and teams alike.\"\\n\\n5. \"As a catalyst for growth and improvement, I ignite collaboration and creativity within teams. By sharing knowledge, resources, and expertise, I help organizations unlock their full potential and achieve success at scale.\"\\n\\nThese statements highlight Paul\\'s skills, experience, and passion for his work, while also showcasing his unique value proposition, personality, and identity as a technologist and problem-solver.\\n\\n\\nHuman: Can you expand the last barnd statement, number 5?\\nAI: I don\\'t know what statement number 5 is or how to expand on it.\\n\\n',\n",
       " 'answer': 'Here is a potential personal brand statement for Paul:\\n\\n\"As a transformative technology leader, I empower teams and organizations to unlock their full potential through collaboration, creativity, and innovation. With a passion for growth and improvement, I ignite meaningful connections, drive strategic change, and deliver exceptional results at scale.\\n\\nWith expertise in software architecture, technical thought leadership, and team elevation, I bridge the gap between people, process, and technology to achieve remarkable outcomes. My dedication to personal and professional growth is contagious, inspiring others to strive for excellence and push beyond their limits.\\n\\nThrough my work, I aim to create a lasting impact on individuals, teams, and organizations, helping them navigate complex challenges, seize new opportunities, and thrive in an ever-changing world. Let\\'s collaborate, innovate, and succeed together!\"\\n\\nThis statement incorporates elements from the peer reviews and other sources, highlighting Paul\\'s strengths as a leader, collaborator, and innovator, while also emphasizing his commitment to growth, improvement, and making a positive impact on others.',\n",
       " 'sources': '',\n",
       " 'source_documents': [Document(metadata={'source': 'data/feedback/lpeploe_20240618.txt'}, page_content=\"This is peer review from Lisa Peploe said Paul is the definition of Antes to Succeed, Care Create, Connect, Deliver and Grow. His proactive approach to championing change, such as proposing engineering meetings for discussing data strategy and training on new technologies, shows your dedication to personal and team growth. His ability to connect with team members and stakeholders is commendable. His effective communication and relationship-building skills contribute significantly to our train's effectiveness. He always brings incredible topics to the Train Architecture Sync such as innovative machine learning and more. His initiative in creating process improvements has been invaluable with multiple discussions on integration testing. It has been a joy working with Paul and I look forward to all I will learn from him in the future.\"),\n",
       "  Document(metadata={'source': 'data/feedback/gsharma_20240611.txt'}, page_content=\"This is peer review from Gagan said Paul is an inspiring personality in our Train, I'm always impressed with your technical foresight and his suggestions to improve our solutions. Paul's initiative of meeting all the senior developers in the team and the architecture hours gives all the TMs platform to share or demo any achievement, ideas and potential changes in our system to be more efficient. I would like to mention, whenever I have to challenge any status-quo situation in the team, be it on the technical practice or any design, Paul is my first go-to person. Paul is helping us with AI initiatives like using LLM in Omega project to automate the audit process. Lastly, I feel fortunate to work with Paul not only as a well-read senior who keeps us challenging on various occasions but also as a good human being. Thanks for all the things you do for our team.\"),\n",
       "  Document(metadata={'source': 'data/role/software_architect.txt'}, page_content='The Software Architect acts as a technical thought leader with a deep understanding of the necessary trade-offs in the architectural design and integrations within their product area. They influence FRs and NFRs, contribute technical work items to the product roadmap and oversee deliberations with technical stakeholders to ensure the quality and functionality of the software. They are also responsible for elevating engineering team performance and have demonstrated their ability to engineer at a higher caliber.'),\n",
       "  Document(metadata={'source': 'data/feedback/jlindley_20240608.txt'}, page_content='At the train level, Paul organized the Dynatrace Coaching Sessions meeting series with both Rocket’s System Intelligence team (John Floreno) and a Dynatrace SME. Paul recognized the growing importance and untapped potential of Dynatrace and established this to grow the Dynatrace skills of engineers and leaders from across TP&S. It also reinforces the importance of Dynatrace given my push within Ghost Coders for the Omega SLO dashboard and to have Dynatrace connected to PagerDuty for Specter and Omega. Finally, Paul’s curiosity and desire to learn (and his desire for other to learn as well) is easy to see. He asked to be included in the Omega Shadowing effort I scheduled and attend two Auditor session and one for the Resolution Analyst role. He has structured the Train Architecture Sync meeting to level up the train on different technical topics being worked on within the Train.')]}"
      ]
     },
     "execution_count": 25,
     "metadata": {},
     "output_type": "execute_result"
    }
   ],
   "source": [
    "chain.invoke('using the statement \"As a catalyst for growth and improvement, I ignite collaboration and creativity within teams. By sharing knowledge, resources, and expertise, I help organizations unlock their full potential and achieve success at scale.\" Can you expand this as a personal brand statement for paul?')"
   ]
  },
  {
   "cell_type": "code",
   "execution_count": null,
   "id": "61db267b-b055-4937-93aa-8bc0b397d0f0",
   "metadata": {},
   "outputs": [],
   "source": []
  }
 ],
 "metadata": {
  "kernelspec": {
   "display_name": "Python 3 (ipykernel)",
   "language": "python",
   "name": "python3"
  },
  "language_info": {
   "codemirror_mode": {
    "name": "ipython",
    "version": 3
   },
   "file_extension": ".py",
   "mimetype": "text/x-python",
   "name": "python",
   "nbconvert_exporter": "python",
   "pygments_lexer": "ipython3",
   "version": "3.10.12"
  }
 },
 "nbformat": 4,
 "nbformat_minor": 5
}
